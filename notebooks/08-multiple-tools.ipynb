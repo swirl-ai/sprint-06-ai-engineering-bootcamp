{
 "cells": [
  {
   "cell_type": "code",
   "execution_count": null,
   "id": "2ea6b2b4",
   "metadata": {},
   "outputs": [],
   "source": [
    "from qdrant_client import QdrantClient\n",
    "from qdrant_client.models import VectorParams, Distance, PayloadSchemaType, PointStruct, MatchAny, FieldCondition, Filter, Prefetch, FusionQuery\n",
    "\n",
    "import pandas as pd\n",
    "import openai\n",
    "import json\n",
    "import tiktoken"
   ]
  },
  {
   "cell_type": "markdown",
   "id": "fc028520",
   "metadata": {},
   "source": [
    "### Load Amazon dataset (Items)"
   ]
  },
  {
   "cell_type": "code",
   "execution_count": null,
   "id": "8895365c",
   "metadata": {},
   "outputs": [],
   "source": [
    "df_items = pd.read_json(\"../data/meta_Electronics_2022_2023_with_category_ratings_100_sample_1000.jsonl\", lines=True)"
   ]
  },
  {
   "cell_type": "code",
   "execution_count": null,
   "id": "61108be7",
   "metadata": {},
   "outputs": [],
   "source": [
    "df_items_sample = df_items.sample(n=50, random_state=25)"
   ]
  },
  {
   "cell_type": "markdown",
   "id": "331c2fe6",
   "metadata": {},
   "source": [
    "### Define functions to preprocess title and features data and extract image url from the first large image in the images list\n"
   ]
  },
  {
   "cell_type": "code",
   "execution_count": null,
   "id": "d7391866",
   "metadata": {},
   "outputs": [],
   "source": [
    "def preprocess_items_data(row):\n",
    "    return f\"{row['title']} {' '.join(row['features'])}\""
   ]
  },
  {
   "cell_type": "code",
   "execution_count": null,
   "id": "8269618a",
   "metadata": {},
   "outputs": [],
   "source": [
    "def extract_first_large_image(row):\n",
    "    return row['images'][0].get('large', '')"
   ]
  },
  {
   "cell_type": "code",
   "execution_count": null,
   "id": "91b30a30",
   "metadata": {},
   "outputs": [],
   "source": [
    "df_items_sample[\"preprocessed_data\"] = df_items_sample.apply(preprocess_items_data, axis=1)\n",
    "df_items_sample[\"first_large_image\"] = df_items_sample.apply(extract_first_large_image, axis=1)"
   ]
  },
  {
   "cell_type": "code",
   "execution_count": null,
   "id": "f2468f45",
   "metadata": {},
   "outputs": [],
   "source": [
    "df_items_sample.head(2)"
   ]
  },
  {
   "cell_type": "markdown",
   "id": "a4984dd1",
   "metadata": {},
   "source": [
    "### Load Amazon dataset (reviews)"
   ]
  },
  {
   "cell_type": "code",
   "execution_count": null,
   "id": "bdec2e89",
   "metadata": {},
   "outputs": [],
   "source": [
    "df_reviews = pd.read_json(\"../data/Electronics_2022_2023_with_category_ratings_100_sample_1000.jsonl\", lines=True)"
   ]
  },
  {
   "cell_type": "code",
   "execution_count": null,
   "id": "3d2f5828",
   "metadata": {},
   "outputs": [],
   "source": [
    "len(df_reviews)"
   ]
  },
  {
   "cell_type": "code",
   "execution_count": null,
   "id": "5addccde",
   "metadata": {},
   "outputs": [],
   "source": [
    "df_reviews_sample = df_reviews[df_reviews['parent_asin'].isin(df_items_sample['parent_asin'])]"
   ]
  },
  {
   "cell_type": "code",
   "execution_count": null,
   "id": "893bf106",
   "metadata": {},
   "outputs": [],
   "source": [
    "df_reviews_sample.head(2)"
   ]
  },
  {
   "cell_type": "code",
   "execution_count": null,
   "id": "0380cccd",
   "metadata": {},
   "outputs": [],
   "source": [
    "len(df_reviews_sample)"
   ]
  },
  {
   "cell_type": "markdown",
   "id": "7f6dc4d7",
   "metadata": {},
   "source": [
    "### Define functions to preprocess reviews data"
   ]
  },
  {
   "cell_type": "code",
   "execution_count": null,
   "id": "6183e9ac",
   "metadata": {},
   "outputs": [],
   "source": [
    "def preprocess_reviews_data(row):\n",
    "    return f\"{row['title']} {row['text']}\""
   ]
  },
  {
   "cell_type": "code",
   "execution_count": null,
   "id": "cb648c83",
   "metadata": {},
   "outputs": [],
   "source": [
    "def token_count(row, model=\"text-embedding-3-small\"):\n",
    "\n",
    "    encoding = tiktoken.encoding_for_model(model)\n",
    "    return len(encoding.encode(row[\"preprocessed_data\"]))"
   ]
  },
  {
   "cell_type": "code",
   "execution_count": null,
   "id": "fb34ba4f",
   "metadata": {},
   "outputs": [],
   "source": [
    "df_reviews_sample[\"preprocessed_data\"] = df_reviews_sample.apply(preprocess_reviews_data, axis=1)"
   ]
  },
  {
   "cell_type": "code",
   "execution_count": null,
   "id": "808acdc3",
   "metadata": {},
   "outputs": [],
   "source": [
    "df_reviews_sample[\"preprocessed_data_token_count\"] = df_reviews_sample.apply(token_count, axis=1)"
   ]
  },
  {
   "cell_type": "code",
   "execution_count": null,
   "id": "7b77ca2a",
   "metadata": {},
   "outputs": [],
   "source": [
    "df_reviews_sample = df_reviews_sample[df_reviews_sample[\"preprocessed_data_token_count\"] < 8192]"
   ]
  },
  {
   "cell_type": "code",
   "execution_count": null,
   "id": "35c36c7d",
   "metadata": {},
   "outputs": [],
   "source": [
    "df_reviews_sample.head(2)"
   ]
  },
  {
   "cell_type": "markdown",
   "id": "bf6b8672",
   "metadata": {},
   "source": [
    "### Create a new Qdrant collection for items"
   ]
  },
  {
   "cell_type": "code",
   "execution_count": null,
   "id": "7a90f195",
   "metadata": {},
   "outputs": [],
   "source": [
    "qdrant_client = QdrantClient(url=\"http://localhost:6333\")"
   ]
  },
  {
   "cell_type": "code",
   "execution_count": null,
   "id": "b37063f7",
   "metadata": {},
   "outputs": [],
   "source": [
    "qdrant_client.create_collection(\n",
    "    collection_name=\"Amazon-items-collection-02-items\",\n",
    "    vectors_config=VectorParams(size=1536, distance=Distance.COSINE),\n",
    ")"
   ]
  },
  {
   "cell_type": "code",
   "execution_count": null,
   "id": "4c6d2d89",
   "metadata": {},
   "outputs": [],
   "source": [
    "qdrant_client.create_payload_index(\n",
    "    collection_name=\"Amazon-items-collection-02-items\",\n",
    "    field_name=\"text\",\n",
    "    field_schema=PayloadSchemaType.TEXT\n",
    ")"
   ]
  },
  {
   "cell_type": "code",
   "execution_count": null,
   "id": "981a6834",
   "metadata": {},
   "outputs": [],
   "source": [
    "qdrant_client.create_payload_index(\n",
    "    collection_name=\"Amazon-items-collection-02-items\",\n",
    "    field_name=\"parent_asin\",\n",
    "    field_schema=PayloadSchemaType.KEYWORD\n",
    ")"
   ]
  },
  {
   "cell_type": "markdown",
   "id": "c9985f4c",
   "metadata": {},
   "source": [
    "### Create a new Qdrant collection for reviews"
   ]
  },
  {
   "cell_type": "code",
   "execution_count": null,
   "id": "d39b234c",
   "metadata": {},
   "outputs": [],
   "source": [
    "qdrant_client.create_collection(\n",
    "    collection_name=\"Amazon-items-collection-02-reviews\",\n",
    "    vectors_config=VectorParams(size=1536, distance=Distance.COSINE),\n",
    ")"
   ]
  },
  {
   "cell_type": "code",
   "execution_count": null,
   "id": "2b1caa2e",
   "metadata": {},
   "outputs": [],
   "source": [
    "qdrant_client.create_payload_index(\n",
    "    collection_name=\"Amazon-items-collection-02-reviews\",\n",
    "    field_name=\"parent_asin\",\n",
    "    field_schema=PayloadSchemaType.KEYWORD\n",
    ")"
   ]
  },
  {
   "cell_type": "markdown",
   "id": "aa8a04ac",
   "metadata": {},
   "source": [
    "### Embedding functions"
   ]
  },
  {
   "cell_type": "code",
   "execution_count": null,
   "id": "5fc2f22e",
   "metadata": {},
   "outputs": [],
   "source": [
    "def get_embedding(text, model=\"text-embedding-3-small\"):\n",
    "    response = openai.embeddings.create(\n",
    "        input=[text],\n",
    "        model=model,\n",
    "    )\n",
    "    return response.data[0].embedding"
   ]
  },
  {
   "cell_type": "code",
   "execution_count": null,
   "id": "39671a96",
   "metadata": {},
   "outputs": [],
   "source": [
    "def get_embeddings_batch(text_list, model=\"text-embedding-3-small\", batch_size=100):\n",
    "    \n",
    "    if len(text_list) <= batch_size:\n",
    "        response = openai.embeddings.create(input=text_list, model=model)\n",
    "        return [embedding.embedding for embedding in response.data]\n",
    "    \n",
    "    all_embeddings = []\n",
    "    counter = 1\n",
    "    for i in range(0, len(text_list), batch_size):\n",
    "        batch = text_list[i:i + batch_size]\n",
    "        response = openai.embeddings.create(input=batch, model=model)\n",
    "        all_embeddings.extend([embedding.embedding for embedding in response.data])\n",
    "        print(f\"Processed {counter * batch_size} of {len(text_list)}\")\n",
    "        counter += 1\n",
    "    \n",
    "    return all_embeddings"
   ]
  },
  {
   "cell_type": "markdown",
   "id": "7278b23f",
   "metadata": {},
   "source": [
    "### Embed the text data and add additional fields to the payload of each vector (items)"
   ]
  },
  {
   "cell_type": "code",
   "execution_count": null,
   "id": "2f6a2f8c",
   "metadata": {},
   "outputs": [],
   "source": [
    "data_to_embed_items = df_items_sample[[\"preprocessed_data\", \"first_large_image\", \"rating_number\", \"price\", \"average_rating\", \"parent_asin\"]].to_dict(orient=\"records\")"
   ]
  },
  {
   "cell_type": "code",
   "execution_count": null,
   "id": "431e2719",
   "metadata": {},
   "outputs": [],
   "source": [
    "data_to_embed_items[0]"
   ]
  },
  {
   "cell_type": "code",
   "execution_count": null,
   "id": "59b5e9e4",
   "metadata": {},
   "outputs": [],
   "source": [
    "text_to_embed_items = [data[\"preprocessed_data\"] for data in data_to_embed_items]"
   ]
  },
  {
   "cell_type": "code",
   "execution_count": null,
   "id": "0b9a00e5",
   "metadata": {},
   "outputs": [],
   "source": [
    "embeddings_items = get_embeddings_batch(text_to_embed_items)"
   ]
  },
  {
   "cell_type": "code",
   "execution_count": null,
   "id": "45a7ffda",
   "metadata": {},
   "outputs": [],
   "source": [
    "embeddings_items"
   ]
  },
  {
   "cell_type": "code",
   "execution_count": null,
   "id": "5db812a3",
   "metadata": {},
   "outputs": [],
   "source": [
    "pointstructs = []\n",
    "i = 1\n",
    "for embedding, data in zip(embeddings_items, data_to_embed_items):\n",
    "    pointstructs.append(\n",
    "        PointStruct(\n",
    "            id=i,\n",
    "            vector=embedding,\n",
    "            payload={\n",
    "                \"text\": data[\"preprocessed_data\"],\n",
    "                \"first_large_image\": data[\"first_large_image\"],\n",
    "                \"average_rating\": data[\"average_rating\"],\n",
    "                \"rating_number\": data[\"rating_number\"],\n",
    "                \"price\": data[\"price\"],\n",
    "                \"parent_asin\": data[\"parent_asin\"],\n",
    "            }\n",
    "        )\n",
    "    )\n",
    "    i += 1"
   ]
  },
  {
   "cell_type": "code",
   "execution_count": null,
   "id": "7b2bfad3",
   "metadata": {},
   "outputs": [],
   "source": [
    "pointstructs"
   ]
  },
  {
   "cell_type": "code",
   "execution_count": null,
   "id": "986d5bef",
   "metadata": {},
   "outputs": [],
   "source": [
    "qdrant_client.upsert(\n",
    "    collection_name=\"Amazon-items-collection-02-items\",\n",
    "    wait=True,\n",
    "    points=pointstructs\n",
    ")"
   ]
  },
  {
   "cell_type": "markdown",
   "id": "ee519703",
   "metadata": {},
   "source": [
    "### Embed the text data and add additional fields to the payload of each vector (reviews)"
   ]
  },
  {
   "cell_type": "code",
   "execution_count": null,
   "id": "80a20605",
   "metadata": {},
   "outputs": [],
   "source": [
    "data_to_embed_reviews = df_reviews_sample[[\"preprocessed_data\", \"parent_asin\"]].to_dict(orient=\"records\")"
   ]
  },
  {
   "cell_type": "code",
   "execution_count": null,
   "id": "8a084f8b",
   "metadata": {},
   "outputs": [],
   "source": [
    "text_to_embed_reviews = [data[\"preprocessed_data\"] for data in data_to_embed_reviews]"
   ]
  },
  {
   "cell_type": "code",
   "execution_count": null,
   "id": "67e84bf3",
   "metadata": {},
   "outputs": [],
   "source": [
    "embeddings_reviews = get_embeddings_batch(text_to_embed_reviews)"
   ]
  },
  {
   "cell_type": "code",
   "execution_count": null,
   "id": "d4cf2c9f",
   "metadata": {},
   "outputs": [],
   "source": [
    "len(embeddings_reviews)"
   ]
  },
  {
   "cell_type": "code",
   "execution_count": null,
   "id": "eb40754f",
   "metadata": {},
   "outputs": [],
   "source": [
    "pointstructs = []\n",
    "i = 1\n",
    "for embedding, data in zip(embeddings_reviews, data_to_embed_reviews):\n",
    "    pointstructs.append(\n",
    "        PointStruct(\n",
    "            id=i,\n",
    "            vector=embedding,\n",
    "            payload={\n",
    "                \"text\": data[\"preprocessed_data\"],\n",
    "                \"parent_asin\": data[\"parent_asin\"],\n",
    "            }\n",
    "        )\n",
    "    )\n",
    "    i += 1"
   ]
  },
  {
   "cell_type": "code",
   "execution_count": null,
   "id": "e5fd9526",
   "metadata": {},
   "outputs": [],
   "source": [
    "pointstructs"
   ]
  },
  {
   "cell_type": "code",
   "execution_count": null,
   "id": "4e6b0f9c",
   "metadata": {},
   "outputs": [],
   "source": [
    "batch_size_qdrant = 100\n",
    "counter = 1\n",
    "for i in range(0, len(pointstructs), batch_size_qdrant):\n",
    "    batch = pointstructs[i:i + batch_size_qdrant]\n",
    "    qdrant_client.upsert(\n",
    "        collection_name=\"Amazon-items-collection-02-reviews\",\n",
    "        wait=True,\n",
    "        points=batch\n",
    "    )\n",
    "    print(f\"Processed {counter * batch_size_qdrant} of {len(pointstructs)}\")\n",
    "    counter += 1"
   ]
  },
  {
   "cell_type": "markdown",
   "id": "0036caed",
   "metadata": {},
   "source": [
    "### Perform hybrid search and perform rrf rank fusion on the retrieved results"
   ]
  },
  {
   "cell_type": "code",
   "execution_count": null,
   "id": "c169e9ab",
   "metadata": {},
   "outputs": [],
   "source": [
    "from qdrant_client.models import Prefetch, Filter, FieldCondition, MatchText, FusionQuery\n",
    "\n",
    "def retrieve_data(query, k=5):\n",
    "\n",
    "    query_embedding = get_embedding(query)\n",
    "\n",
    "    results = qdrant_client.query_points(\n",
    "        collection_name=\"Amazon-items-collection-02-items\",\n",
    "        prefetch=[\n",
    "            Prefetch(\n",
    "                query=query_embedding,\n",
    "                limit=20\n",
    "            ),\n",
    "            Prefetch(\n",
    "                filter=Filter(\n",
    "                    must=[\n",
    "                        FieldCondition(\n",
    "                            key=\"text\",\n",
    "                            match=MatchText(text=query)\n",
    "                        )\n",
    "                    ]\n",
    "                ),\n",
    "                limit=20\n",
    "            )\n",
    "        ],\n",
    "        query=FusionQuery(fusion=\"rrf\"),\n",
    "        limit=k\n",
    "    )\n",
    "\n",
    "    return results"
   ]
  },
  {
   "cell_type": "code",
   "execution_count": null,
   "id": "4c7777d7",
   "metadata": {},
   "outputs": [],
   "source": [
    "result = retrieve_data(\"earphones\")"
   ]
  },
  {
   "cell_type": "code",
   "execution_count": null,
   "id": "936cb6dc",
   "metadata": {},
   "outputs": [],
   "source": [
    "result.points"
   ]
  },
  {
   "cell_type": "code",
   "execution_count": null,
   "id": "5d1f0ea0",
   "metadata": {},
   "outputs": [],
   "source": [
    "parent_asins = []\n",
    "for data in result.points:\n",
    "    parent_asins.append(data.payload[\"parent_asin\"])"
   ]
  },
  {
   "cell_type": "code",
   "execution_count": null,
   "id": "09fc4454",
   "metadata": {},
   "outputs": [],
   "source": [
    "parent_asins"
   ]
  },
  {
   "cell_type": "markdown",
   "id": "767f4dc5",
   "metadata": {},
   "source": [
    "### A function to run search agains reviews on a prefiltered set of product IDs"
   ]
  },
  {
   "cell_type": "code",
   "execution_count": null,
   "id": "42872e93",
   "metadata": {},
   "outputs": [],
   "source": [
    "def retrieve_prefiltered_reviews_data(query, parent_asins, k=5):\n",
    "\n",
    "    query_embedding = get_embedding(query)\n",
    "\n",
    "    results = qdrant_client.query_points(\n",
    "        collection_name=\"Amazon-items-collection-02-reviews\",\n",
    "        prefetch=[\n",
    "            Prefetch(\n",
    "                query=query_embedding,\n",
    "                filter=Filter(\n",
    "                    must=[\n",
    "                        FieldCondition(\n",
    "                            key=\"parent_asin\",\n",
    "                            match=MatchAny(\n",
    "                                any=parent_asins\n",
    "                            )\n",
    "                        )\n",
    "                    ]\n",
    "                ),\n",
    "                limit=20\n",
    "            )\n",
    "        ],\n",
    "        query=FusionQuery(fusion=\"rrf\"),\n",
    "        limit=k\n",
    "    )\n",
    "\n",
    "    return results"
   ]
  },
  {
   "cell_type": "code",
   "execution_count": null,
   "id": "d3fa37a4",
   "metadata": {},
   "outputs": [],
   "source": [
    "reviews = retrieve_prefiltered_reviews_data(\"bad quality\", ['B09NLTDHQ6', 'B098K6N6TX', 'B0C6KBJMHP', 'B0B1DM4Y5C', 'B09Q5W9HPQ'], k=5)"
   ]
  },
  {
   "cell_type": "code",
   "execution_count": null,
   "id": "303e0795",
   "metadata": {},
   "outputs": [],
   "source": [
    "reviews.points"
   ]
  },
  {
   "cell_type": "code",
   "execution_count": null,
   "id": "fc72e9b4",
   "metadata": {},
   "outputs": [],
   "source": [
    "reviews_1 = retrieve_prefiltered_reviews_data(\"bad quality\", ['B09NLTDHQ6', 'B098K6N6TX'], k=5)\n",
    "reviews_2 = retrieve_prefiltered_reviews_data(\"bad quality\", ['B0C6KBJMHP', 'B0B1DM4Y5C'], k=5)\n",
    "reviews_3 = retrieve_prefiltered_reviews_data(\"bad quality\", ['B09Q5W9HPQ'], k=5)\n",
    "reviews_3 = retrieve_prefiltered_reviews_data(\"bad quality\", ['B09NLTDHQ6'], k=5)"
   ]
  },
  {
   "cell_type": "code",
   "execution_count": null,
   "id": "c84d6cbb",
   "metadata": {},
   "outputs": [],
   "source": [
    "reviews_1.points"
   ]
  },
  {
   "cell_type": "code",
   "execution_count": null,
   "id": "11426a7f",
   "metadata": {},
   "outputs": [],
   "source": [
    "reviews_4 = retrieve_prefiltered_reviews_data(\"bad\", ['B09NLTDHQ6'], k=5)"
   ]
  },
  {
   "cell_type": "code",
   "execution_count": null,
   "id": "3f9773bf",
   "metadata": {},
   "outputs": [],
   "source": [
    "reviews_4.points"
   ]
  },
  {
   "cell_type": "code",
   "execution_count": null,
   "id": "e96c66b5",
   "metadata": {},
   "outputs": [],
   "source": []
  }
 ],
 "metadata": {
  "kernelspec": {
   "display_name": ".venv",
   "language": "python",
   "name": "python3"
  },
  "language_info": {
   "codemirror_mode": {
    "name": "ipython",
    "version": 3
   },
   "file_extension": ".py",
   "mimetype": "text/x-python",
   "name": "python",
   "nbconvert_exporter": "python",
   "pygments_lexer": "ipython3",
   "version": "3.12.8"
  }
 },
 "nbformat": 4,
 "nbformat_minor": 5
}
