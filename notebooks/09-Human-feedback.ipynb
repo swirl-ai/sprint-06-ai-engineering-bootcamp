{
 "cells": [
  {
   "cell_type": "code",
   "execution_count": null,
   "id": "db0818d7",
   "metadata": {},
   "outputs": [],
   "source": [
    "from langsmith import Client"
   ]
  },
  {
   "cell_type": "markdown",
   "id": "d879c366",
   "metadata": {},
   "source": [
    "## Attach feedback to a specific trace_id in LangSmith"
   ]
  },
  {
   "cell_type": "code",
   "execution_count": null,
   "id": "581721e2",
   "metadata": {},
   "outputs": [],
   "source": [
    "client = Client()"
   ]
  },
  {
   "cell_type": "code",
   "execution_count": null,
   "id": "3bb82c5f",
   "metadata": {},
   "outputs": [],
   "source": [
    "client.create_feedback(\n",
    "    run_id=\"51070445-863f-435b-8a90-3b4e770e10dd\",\n",
    "    key=\"feedback\",\n",
    "    score=0,\n",
    "    feedback_source_type=\"api\"\n",
    ")"
   ]
  },
  {
   "cell_type": "code",
   "execution_count": null,
   "id": "e1c2ec31",
   "metadata": {},
   "outputs": [],
   "source": [
    "client.create_feedback(\n",
    "    run_id=\"51070445-863f-435b-8a90-3b4e770e10dd\",\n",
    "    key=\"feedback_1\",\n",
    "    score=1,\n",
    "    feedback_source_type=\"api\"\n",
    ")"
   ]
  },
  {
   "cell_type": "code",
   "execution_count": null,
   "id": "55cbccf6",
   "metadata": {},
   "outputs": [],
   "source": [
    "client.create_feedback(\n",
    "    run_id=\"51070445-863f-435b-8a90-3b4e770e10dd\",\n",
    "    key=\"comment\",\n",
    "    value=\"This is a long free form comment on this trace that you should use to improve the system.\",\n",
    "    feedback_source_type=\"api\"\n",
    ")"
   ]
  },
  {
   "cell_type": "code",
   "execution_count": null,
   "id": "01014412",
   "metadata": {},
   "outputs": [],
   "source": []
  }
 ],
 "metadata": {
  "kernelspec": {
   "display_name": ".venv",
   "language": "python",
   "name": "python3"
  },
  "language_info": {
   "codemirror_mode": {
    "name": "ipython",
    "version": 3
   },
   "file_extension": ".py",
   "mimetype": "text/x-python",
   "name": "python",
   "nbconvert_exporter": "python",
   "pygments_lexer": "ipython3",
   "version": "3.12.8"
  }
 },
 "nbformat": 4,
 "nbformat_minor": 5
}
